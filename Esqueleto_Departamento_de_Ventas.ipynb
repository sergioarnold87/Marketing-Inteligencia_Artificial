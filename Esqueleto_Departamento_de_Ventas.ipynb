{
  "nbformat": 4,
  "nbformat_minor": 0,
  "metadata": {
    "colab": {
      "name": "Esqueleto Departamento de Ventas",
      "provenance": [],
      "collapsed_sections": [],
      "include_colab_link": true
    },
    "kernelspec": {
      "name": "python3",
      "display_name": "Python 3"
    }
  },
  "cells": [
    {
      "cell_type": "markdown",
      "metadata": {
        "id": "view-in-github",
        "colab_type": "text"
      },
      "source": [
        "<a href=\"https://colab.research.google.com/github/sergioarnold87/Marketing-Inteligencia_Artificial/blob/main/Esqueleto_Departamento_de_Ventas.ipynb\" target=\"_parent\"><img src=\"https://colab.research.google.com/assets/colab-badge.svg\" alt=\"Open In Colab\"/></a>"
      ]
    },
    {
      "cell_type": "markdown",
      "metadata": {
        "id": "M27qF7CTrBqc"
      },
      "source": [
        "# TAREA #1: ENTENDER EL ENUNCIADO DEL PROBLEMA Y EL CASO PRÁCTICO"
      ]
    },
    {
      "cell_type": "markdown",
      "metadata": {
        "id": "Z2ZMlH-gtOxf"
      },
      "source": [
        "\n",
        "<table>\n",
        "  <tr><td>\n",
        "    <img src=\"https://drive.google.com/uc?id=1l7bHyrjzq839zVZE06cfdDksLabCN2hg\"\n",
        "         alt=\"Fashion MNIST sprite\"  width=\"1000\">\n",
        "  </td></tr>\n",
        "  <tr><td align=\"center\">\n",
        "    <b>Figura 1. Prediccion de Ventas Futuras usando Series Temporales\n",
        "  </td></tr>\n",
        "</table>\n"
      ]
    },
    {
      "cell_type": "markdown",
      "metadata": {
        "id": "3O2y6H5Sk9dS"
      },
      "source": [
        "![alt text](https://drive.google.com/uc?id=179967pYtO8DZkFIiqkzKeDXpzKF13KE9)"
      ]
    },
    {
      "cell_type": "markdown",
      "metadata": {
        "id": "653W5Abck9mf"
      },
      "source": [
        "![alt text](https://drive.google.com/uc?id=1MHVbje9FNlAbo-LOMlCvSYfpgzW7PQ4y)"
      ]
    },
    {
      "cell_type": "markdown",
      "metadata": {
        "id": "TkKF3voY7_r5"
      },
      "source": [
        "![alt text](https://drive.google.com/uc?id=1DC-hoQNAxfDXEn91_BTF2B8qH904N8yq)"
      ]
    },
    {
      "cell_type": "markdown",
      "metadata": {
        "id": "J2xNWhFz7_20"
      },
      "source": [
        "![alt text](https://drive.google.com/uc?id=1sM7eT88kpVmNMl7wJy0Jq0X_w-r783JF)"
      ]
    },
    {
      "cell_type": "markdown",
      "metadata": {
        "id": "-5jwMD3w8Aa2"
      },
      "source": [
        "![alt text](https://drive.google.com/uc?id=1E6qCyK6SjFany6QsXw8lUc77CSOgjTkj)"
      ]
    },
    {
      "cell_type": "markdown",
      "metadata": {
        "id": "zKmFmyaGunc7"
      },
      "source": [
        "#2: IMPORTAR LAS LIBRERÍAS Y LOS DATASETS"
      ]
    },
    {
      "cell_type": "code",
      "metadata": {
        "id": "S0Cx3743urFY"
      },
      "source": [
        "import pandas as pd\n",
        "import numpy as np\n",
        "import seaborn as sns\n",
        "import matplotlib.pyplot as plt\n",
        "import datetime"
      ],
      "execution_count": 1,
      "outputs": []
    },
    {
      "cell_type": "code",
      "metadata": {
        "id": "5P_ciLXawMZg"
      },
      "source": [
        "# Necesitarás montar tu disco usando los siguientes comandos:\n",
        "# Para obtener más información sobre el montaje, consulta esto: https://stackoverflow.com/questions/46986398/import-data-into-google-colaboratory\n",
        "\n"
      ],
      "execution_count": null,
      "outputs": []
    },
    {
      "cell_type": "markdown",
      "metadata": {
        "id": "IRU42d3vaYzm"
      },
      "source": [
        "TAREA #2.1: IMPORTAR EL DATASET DE VENTAS"
      ]
    },
    {
      "cell_type": "code",
      "metadata": {
        "id": "tjIiJdM4u1IE"
      },
      "source": [
        "# Debes incluir el enlace completo al archivo csv que contiene tu conjunto de datos"
      ],
      "execution_count": null,
      "outputs": []
    },
    {
      "cell_type": "code",
      "metadata": {
        "id": "E7puy9-xxS4A"
      },
      "source": [
        "sales_train_df.head(5)\n",
        "# Casi un millón de observaciones\n",
        "# 1115 tiendas únicas \n",
        "# Notemos que las ventas es la variable objetivo (la que intentamos predecir)\n",
        "\n",
        "# Id:  ID de transacción (combinación de la tienda y la fecha)\n",
        "# Store: identificador único de la tienda\n",
        "# Sales: ventas diarias, esta es la variable objetivo\n",
        "# Customers: número de clientes de un día dado\n",
        "# Open: Booleano para indicar si la tienda estaba abierta o cerrada (0 = cerrada, 1 = abierta)\n",
        "# Promo: describe si la tienda tenía algún tipo de promoción ese día o no\n",
        "# StateHoliday: indica si el día era festivo o no (a = vacaciones públicas, b = vacaciones de Pascua holiday, c = Navidades, 0 = No era festivo)\n",
        "# SchoolHoliday: indica si (Store, Date) se ve afectado por el cierre de las escuelas públicas\n",
        "# Fuente original de los datos: https://www.kaggle.com/c/rossmann-store-sales/data\n",
        "\n"
      ],
      "execution_count": null,
      "outputs": []
    },
    {
      "cell_type": "code",
      "metadata": {
        "id": "RUt2ON_UxyYk"
      },
      "source": [
        ""
      ],
      "execution_count": null,
      "outputs": []
    },
    {
      "cell_type": "code",
      "metadata": {
        "id": "hMq3-KWOx0e1"
      },
      "source": [
        "# 9 columnas en total \n",
        "# 8 características, cada una con 1017209 puntos de datos\n",
        "# 1 variable objetivo (ventas)"
      ],
      "execution_count": null,
      "outputs": []
    },
    {
      "cell_type": "code",
      "metadata": {
        "id": "s0E9xPLdx2Ok"
      },
      "source": [
        "# Cantidad de ventas promedio por día = 5773 Euros, ventas mínimas por día = 0, ventas máximas por día = 41551\n",
        "# Número medio de clientes = 633, número mínimo de clientes = 0, número máximo de clientes = 7388"
      ],
      "execution_count": null,
      "outputs": []
    },
    {
      "cell_type": "markdown",
      "metadata": {
        "id": "eJ8D_qIRalvY"
      },
      "source": [
        "TAREA #2.2: IMPORTAR LA INFORMACIÓN SOBRE LAS TIENDAS\n",
        "\n"
      ]
    },
    {
      "cell_type": "code",
      "metadata": {
        "id": "TzfwLhLUazX1"
      },
      "source": [
        "\n",
        "# StoreType: categoría que indica el tipo de tienda (a, b, c, d)\n",
        "# Assortment:  a = básico, b = extra, c = extedido\n",
        "# CompetitionDistance (en metros): distancia a la tienda de la competencia más cercana\n",
        "# CompetitionOpenSince [Mes/Año]:  fecha en que abrió la competencia\n",
        "# Promo2: Promo2 es una promoción continuada y consecutiva en algunas tiendas (0 = la tienda no participa, 1 = la tienda participa)\n",
        "# Promo2Since [Año/Semana]: fecha en la que la tienda empieza a participar en la Promo2\n",
        "# PromoInterval: describe los intervalos consecutivos donde la Promo2 empieza, indicando los meses en los que empieza la misma. P.e. \"Feb,May,Aug,Nov\" significa que cada nueva ronda de promoción empieza en Febrero, Mayo, Agosto, Noviembre de cualquier año de esa tienda\n"
      ],
      "execution_count": null,
      "outputs": []
    },
    {
      "cell_type": "code",
      "metadata": {
        "id": "92SaSNJvkxqb"
      },
      "source": [
        ""
      ],
      "execution_count": null,
      "outputs": []
    },
    {
      "cell_type": "code",
      "metadata": {
        "id": "A45D-v_0qJF0"
      },
      "source": [
        "# Hagamos lo mismo con los datos store_info_df\n",
        "# Hay que tener en cuenta que el data frame anterior incluye las transacciones registradas por día (en millones)\n",
        "# Este data frame solo incluye información sobre las 1115 tiendas exclusivas que forman parte de este estudio"
      ],
      "execution_count": null,
      "outputs": []
    },
    {
      "cell_type": "code",
      "metadata": {
        "id": "ey2G1N1FqJRR"
      },
      "source": [
        "# De media, la distancia de la competencia es de 5404 metros (5,4 kms)"
      ],
      "execution_count": null,
      "outputs": []
    },
    {
      "cell_type": "code",
      "metadata": {
        "id": "icDs6kqoqvWL"
      },
      "source": [
        ""
      ],
      "execution_count": null,
      "outputs": []
    },
    {
      "cell_type": "markdown",
      "metadata": {
        "id": "LlszUhNNyrl_"
      },
      "source": [
        "# TAREA #3: EXPLORAR EL DATASET"
      ]
    },
    {
      "cell_type": "markdown",
      "metadata": {
        "id": "DDuw6cEkZehx"
      },
      "source": [
        "TAREA #3.1: EXPLORAR EL DATASET DE VENTAS"
      ]
    },
    {
      "cell_type": "code",
      "metadata": {
        "id": "wThGn_F4k60c"
      },
      "source": [
        "# Veamos si nos faltan datos, ¡esperemos que no sea así!\n"
      ],
      "execution_count": null,
      "outputs": []
    },
    {
      "cell_type": "code",
      "metadata": {
        "id": "t3BY8FxelGIP"
      },
      "source": [
        "# Promedio de 600 clientes por día, el máximo es 4500 (¡tenga en cuenta que no podemos ver el valor atípico en 7388!)\n",
        "# Los datos se distribuyen por igual en varios días de la semana (~ 150000 observaciones x 7 días = ~ 1,1 millones de observaciones)\n",
        "# Las tiendas están abiertas ~ 80% del tiempo\n",
        "# Los datos se distribuyen por igual entre todas las tiendas (sin sesgo)\n",
        "# La promoción # 1 se ejecutó aproximadamente el 40% del tiempo\n",
        "# Ventas promedio alrededor de 5000-6000 Euros\n",
        "# Las vacaciones escolares duran alrededor del 18% del tiempo\n"
      ],
      "execution_count": null,
      "outputs": []
    },
    {
      "cell_type": "code",
      "metadata": {
        "id": "kP8opr7YzJ_d"
      },
      "source": [
        ""
      ],
      "execution_count": null,
      "outputs": []
    },
    {
      "cell_type": "code",
      "metadata": {
        "id": "-5qvu70o5oAI"
      },
      "source": [
        "# ¡Veamos cuántas tiendas están abiertas y cerradas!\n"
      ],
      "execution_count": null,
      "outputs": []
    },
    {
      "cell_type": "code",
      "metadata": {
        "id": "uBDltyUy5o1L"
      },
      "source": [
        "# Contemos el número de tiendas que están abiertas y cerradas"
      ],
      "execution_count": null,
      "outputs": []
    },
    {
      "cell_type": "code",
      "metadata": {
        "id": "BfDQRuNj4_b8"
      },
      "source": [
        "# nos quedamos solo con las tiendas abiertas y eliminamos las tiendas cerradas\n"
      ],
      "execution_count": null,
      "outputs": []
    },
    {
      "cell_type": "code",
      "metadata": {
        "id": "GsBQng4uok30"
      },
      "source": [
        ""
      ],
      "execution_count": null,
      "outputs": []
    },
    {
      "cell_type": "code",
      "metadata": {
        "id": "GvRoygK4pf7M"
      },
      "source": [
        "# Eliminemos la columna open ya que ahora no tiene sentido\n"
      ],
      "execution_count": null,
      "outputs": []
    },
    {
      "cell_type": "code",
      "metadata": {
        "id": "jI5r7ZM5pwM6"
      },
      "source": [
        ""
      ],
      "execution_count": null,
      "outputs": []
    },
    {
      "cell_type": "code",
      "metadata": {
        "id": "B5SXd3txxv7V"
      },
      "source": [
        "# Ventas promedio = 6955 Euros, número promedio de clientes = 762 (ha subido)"
      ],
      "execution_count": null,
      "outputs": []
    },
    {
      "cell_type": "markdown",
      "metadata": {
        "id": "ZahU74KlZtlW"
      },
      "source": [
        "TAREA #3.2: EXPLORAR LOS DATOS DE LA INFORMACIÓN DE LAS TIENDAS"
      ]
    },
    {
      "cell_type": "code",
      "metadata": {
        "id": "1BJlRJj0rCOg"
      },
      "source": [
        "# ¡Veamos si falta algún dato en el data frame de información de la tienda!\n"
      ],
      "execution_count": null,
      "outputs": []
    },
    {
      "cell_type": "code",
      "metadata": {
        "id": "auxnWnW4dib5"
      },
      "source": [
        "# Echemos un vistazo a los valores faltantes en la 'CompetitionDistance'\n",
        "# Solo faltan 3 filas\n",
        "\n"
      ],
      "execution_count": null,
      "outputs": []
    },
    {
      "cell_type": "code",
      "metadata": {
        "id": "D6DUDWUFe3aw"
      },
      "source": [
        "# Echemos un vistazo a los valores faltantes en el 'CompetitionOpenSinceMonth'\n",
        "# Faltan muchas filas = 354 (casi un tercio de las 1115 tiendas)\n"
      ],
      "execution_count": null,
      "outputs": []
    },
    {
      "cell_type": "code",
      "metadata": {
        "id": "kf56pKPM2hfm"
      },
      "source": [
        ""
      ],
      "execution_count": null,
      "outputs": []
    },
    {
      "cell_type": "code",
      "metadata": {
        "id": "yr1YMhZjgJ0k"
      },
      "source": [
        "# Parece que si 'promo2' es cero, 'promo2SinceWeek', 'Promo2SinceYear' y la información de 'PromoInterval' se establece en cero\n",
        "# Hay 354 filas donde 'CompetitionOpenSinceYear' y 'CompetitionOpenSinceMonth' falta\n",
        "# Establezcamos estos valores en ceros\n"
      ],
      "execution_count": null,
      "outputs": []
    },
    {
      "cell_type": "code",
      "metadata": {
        "id": "s-haJvqUhTYe"
      },
      "source": [
        ""
      ],
      "execution_count": null,
      "outputs": []
    },
    {
      "cell_type": "code",
      "metadata": {
        "id": "wJm_hfpNkFJd"
      },
      "source": [
        "# Hay 3 filas con valores de 'CompetitionDistance' que faltan, llenémoslas con valores promedio de la columna 'CompetitionDistance'"
      ],
      "execution_count": null,
      "outputs": []
    },
    {
      "cell_type": "code",
      "metadata": {
        "id": "Mu2dJhtsmDEG"
      },
      "source": [
        ""
      ],
      "execution_count": null,
      "outputs": []
    },
    {
      "cell_type": "code",
      "metadata": {
        "id": "jAlKp0rTrCdW"
      },
      "source": [
        "# la mitad de las tiendas participan en la promoción 2\n",
        "# la mitad de las tiendas tienen su competencia a una distancia de 0-3000 m (3 kms de distancia)\n"
      ],
      "execution_count": null,
      "outputs": []
    },
    {
      "cell_type": "markdown",
      "metadata": {
        "id": "i6sJonGln2iC"
      },
      "source": [
        "TAREA #3.3: EXPLOREMOS EL DATASET COMBINADO"
      ]
    },
    {
      "cell_type": "code",
      "metadata": {
        "id": "Gkuk3GM2ucpc"
      },
      "source": [
        "# Combinemos ambos data frames en función de 'store'\n"
      ],
      "execution_count": null,
      "outputs": []
    },
    {
      "cell_type": "code",
      "metadata": {
        "id": "fyhB3BGku-Ny"
      },
      "source": [
        ""
      ],
      "execution_count": null,
      "outputs": []
    },
    {
      "cell_type": "code",
      "metadata": {
        "id": "c6UiAqTkKD85"
      },
      "source": [
        "\n",
        "# los clientes y la promoción se correlacionan positivamente con las ventas\n",
        "# Promo2 no parece ser efectivo en absoluto"
      ],
      "execution_count": null,
      "outputs": []
    },
    {
      "cell_type": "code",
      "metadata": {
        "id": "zBy4m89a08Sj"
      },
      "source": [
        "\n",
        "# Los clientes / Promo2 y las ventas están fuertemente correlacionados"
      ],
      "execution_count": null,
      "outputs": []
    },
    {
      "cell_type": "code",
      "metadata": {
        "id": "hKVqck-sqn-k"
      },
      "source": [
        "# Separemos el año y pongámoslo en una columna separada"
      ],
      "execution_count": null,
      "outputs": []
    },
    {
      "cell_type": "code",
      "metadata": {
        "id": "YH1shh1grvs4"
      },
      "source": [
        ""
      ],
      "execution_count": null,
      "outputs": []
    },
    {
      "cell_type": "code",
      "metadata": {
        "id": "nybqRzqAr67_"
      },
      "source": [
        "# Hagamos lo mismo para el día y el mes\n"
      ],
      "execution_count": null,
      "outputs": []
    },
    {
      "cell_type": "code",
      "metadata": {
        "id": "IdRdqBWhsEkj"
      },
      "source": [
        ""
      ],
      "execution_count": null,
      "outputs": []
    },
    {
      "cell_type": "code",
      "metadata": {
        "id": "obSN0pN3sP_L"
      },
      "source": [
        "# Echemos un vistazo a las ventas promedio y la cantidad de clientes por mes.\n",
        "# 'groupby' funciona muy bien al agrupar todos los datos que comparten la misma columna del mes, luego obtener la media de la columna de ventas\n",
        "# Parece que las ventas y el número de clientes alcanzan su punto máximo en el período de Navidad"
      ],
      "execution_count": null,
      "outputs": []
    },
    {
      "cell_type": "code",
      "metadata": {
        "id": "3RoxwwX9zydn"
      },
      "source": [
        "# Echemos un vistazo a las ventas y a los clientes por día del mes.\n",
        "# El número mínimo de clientes suele rondar el día 24 del mes.\n",
        "# La mayoría de los clientes y las ventas son alrededor del 30 y el 1 del mes\n"
      ],
      "execution_count": null,
      "outputs": []
    },
    {
      "cell_type": "code",
      "metadata": {
        "id": "RdNPmxos18wF"
      },
      "source": [
        "# Hagamos lo mismo para el día de la semana (notemos que 7 = domingo)\n"
      ],
      "execution_count": null,
      "outputs": []
    },
    {
      "cell_type": "code",
      "metadata": {
        "id": "5OHUts90uLkp"
      },
      "source": [
        ""
      ],
      "execution_count": null,
      "outputs": []
    },
    {
      "cell_type": "code",
      "metadata": {
        "id": "kxG6ejjM4QIu"
      },
      "source": [
        ""
      ],
      "execution_count": null,
      "outputs": []
    },
    {
      "cell_type": "code",
      "metadata": {
        "id": "vG1MKNlHUeQW"
      },
      "source": [
        ""
      ],
      "execution_count": null,
      "outputs": []
    },
    {
      "cell_type": "markdown",
      "metadata": {
        "id": "53qDZFRn3-S1"
      },
      "source": [
        "# TAREA # 4: ENTENDER LA INTUICIÓN DETRÁS DE FACEBOOK PROPHET"
      ]
    },
    {
      "cell_type": "markdown",
      "metadata": {
        "id": "aabh8NCIlzGJ"
      },
      "source": [
        "![alt text](https://drive.google.com/uc?id=1zk5cwXQvqci6hOwXoTSU0DY0Dpt1jNF0)"
      ]
    },
    {
      "cell_type": "markdown",
      "metadata": {
        "id": "OEaG3L1Rl4oi"
      },
      "source": [
        "![alt text](https://drive.google.com/uc?id=10HNgyFmM1CG6yzSxpFudunUaHKNV_xBT)"
      ]
    },
    {
      "cell_type": "markdown",
      "metadata": {
        "id": "rW-8HbAdmAwA"
      },
      "source": [
        "![alt text](https://drive.google.com/uc?id=1BhEzmHYh_HKDWGz4eXP-clF7KAxJ_Od7)"
      ]
    },
    {
      "cell_type": "markdown",
      "metadata": {
        "id": "rD7llllklpEG"
      },
      "source": [
        "# TAREA # 5: ENTRENAR AL MODELO PARTE A"
      ]
    },
    {
      "cell_type": "code",
      "metadata": {
        "id": "pCw6Tq60DCRI"
      },
      "source": [
        "# import prophet "
      ],
      "execution_count": null,
      "outputs": []
    },
    {
      "cell_type": "code",
      "metadata": {
        "id": "WFii_1-b_xGf"
      },
      "source": [
        ""
      ],
      "execution_count": null,
      "outputs": []
    },
    {
      "cell_type": "code",
      "metadata": {
        "id": "k2Zv3i-mBbC_"
      },
      "source": [
        ""
      ],
      "execution_count": null,
      "outputs": []
    },
    {
      "cell_type": "markdown",
      "metadata": {
        "id": "XgNgJ_VvIG1w"
      },
      "source": [
        "# TAREA # 6: ENTRENAR AL MODELO PARTE B"
      ]
    },
    {
      "cell_type": "markdown",
      "metadata": {
        "id": "KIPJxfxZJI6S"
      },
      "source": [
        "- StateHoliday: indica si el día era festivo o no (a = vacaciones públicas, b = vacaciones de Pascua holiday, c = Navidades, 0 = No era festivo)\n",
        "- SchoolHoliday: indica si (Store, Date) se ve afectado por el cierre de las escuelas públicas\n",
        "  \n",
        "\n",
        "\n",
        "\n",
        "\n"
      ]
    },
    {
      "cell_type": "code",
      "metadata": {
        "id": "E2NgKTupBa9S"
      },
      "source": [
        ""
      ],
      "execution_count": null,
      "outputs": []
    },
    {
      "cell_type": "code",
      "metadata": {
        "id": "K2JIwssFIkEL"
      },
      "source": [
        "# Obtener todas las fechas relacionadas con las vacaciones escolares"
      ],
      "execution_count": null,
      "outputs": []
    },
    {
      "cell_type": "code",
      "metadata": {
        "id": "D8GT7wzdKQUE"
      },
      "source": [
        ""
      ],
      "execution_count": null,
      "outputs": []
    },
    {
      "cell_type": "code",
      "metadata": {
        "id": "QEkc-IKLKQ6g"
      },
      "source": [
        "# Obtener todas las fechas correspondientes a los festivos estatales\n"
      ],
      "execution_count": null,
      "outputs": []
    },
    {
      "cell_type": "code",
      "metadata": {
        "id": "YPYEYvU0MC7y"
      },
      "source": [
        ""
      ],
      "execution_count": null,
      "outputs": []
    },
    {
      "cell_type": "code",
      "metadata": {
        "id": "WJVGG2xJMf3S"
      },
      "source": [
        ""
      ],
      "execution_count": null,
      "outputs": []
    },
    {
      "cell_type": "code",
      "metadata": {
        "id": "ap59cCGLMrRm"
      },
      "source": [
        ""
      ],
      "execution_count": null,
      "outputs": []
    },
    {
      "cell_type": "code",
      "metadata": {
        "id": "wGXuPQJLM33f"
      },
      "source": [
        ""
      ],
      "execution_count": null,
      "outputs": []
    },
    {
      "cell_type": "code",
      "metadata": {
        "id": "uJ1nRbgaKQ9U"
      },
      "source": [
        "# Concatenamos las vacaciones escolares y los festivos estatales\n"
      ],
      "execution_count": null,
      "outputs": []
    },
    {
      "cell_type": "code",
      "metadata": {
        "id": "oCZbAdZ9NYIt"
      },
      "source": [
        ""
      ],
      "execution_count": null,
      "outputs": []
    },
    {
      "cell_type": "code",
      "metadata": {
        "id": "20StJuEQNfDx"
      },
      "source": [
        "# Hagamos predicciones usando días festivos para una tienda específica\n"
      ],
      "execution_count": null,
      "outputs": []
    },
    {
      "cell_type": "markdown",
      "metadata": {
        "id": "0qi5JcBAQN0K"
      },
      "source": [
        "# BUEN TRABAJO!!!"
      ]
    }
  ]
}
{
  "nbformat": 4,
  "nbformat_minor": 0,
  "metadata": {
    "colab": {
      "name": "Marketing I_A.ipynb",
      "provenance": [],
      "toc_visible": true,
      "authorship_tag": "ABX9TyNbmT5G+tl7a5bxJZ6c9h9Q",
      "include_colab_link": true
    },
    "kernelspec": {
      "name": "python3",
      "display_name": "Python 3"
    },
    "language_info": {
      "name": "python"
    }
  },
  "cells": [
    {
      "cell_type": "markdown",
      "metadata": {
        "id": "view-in-github",
        "colab_type": "text"
      },
      "source": [
        "<a href=\"https://colab.research.google.com/github/sergioarnold87/Marketing-Inteligencia_Artificial/blob/main/Marketing_I_A.ipynb\" target=\"_parent\"><img src=\"https://colab.research.google.com/assets/colab-badge.svg\" alt=\"Open In Colab\"/></a>"
      ]
    },
    {
      "cell_type": "markdown",
      "metadata": {
        "id": "NlHScp5mG2Ze"
      },
      "source": [
        "#1: ENTENDER EL ENUNCIADO DEL PROBLEMA Y EL CASO PRÁCTICO\n"
      ]
    },
    {
      "cell_type": "markdown",
      "metadata": {
        "id": "rRpJ5byxgVqk"
      },
      "source": [
        "![alt text](https://drive.google.com/uc?id=1XUcy70cUux6E0VWzUsNsoaMkJxrwyFQv)"
      ]
    },
    {
      "cell_type": "markdown",
      "metadata": {
        "id": "T9HU5gtIgdbD"
      },
      "source": [
        "![alt text](https://drive.google.com/uc?id=1iBuWfpl1xoGUya8xc2Ucxb4hSWpo-oNR)"
      ]
    },
    {
      "cell_type": "markdown",
      "metadata": {
        "id": "VcxJuSOFguCC"
      },
      "source": [
        "![alt text](https://drive.google.com/uc?id=1iBuWfpl1xoGUya8xc2Ucxb4hSWpo-oNR)"
      ]
    },
    {
      "cell_type": "markdown",
      "metadata": {
        "id": "TUIJSyOugyR8"
      },
      "source": [
        "![alt text](https://drive.google.com/uc?id=1W-5dXrn6x08UmTEGboo4h5wWSJcdKqfg)"
      ]
    },
    {
      "cell_type": "markdown",
      "metadata": {
        "id": "2xAUqZqRg24A"
      },
      "source": [
        "![alt text](https://drive.google.com/uc?id=1uNWFJKZJpDp3Rmp9y9dSSBCpZkgssrPT)"
      ]
    },
    {
      "cell_type": "markdown",
      "metadata": {
        "id": "E-Zq9ZMRhGqY"
      },
      "source": [
        "![alt text](https://drive.google.com/uc?id=1SGgzX1j2rXve4eUYBvhCtNl71Ni5ws4_)"
      ]
    },
    {
      "cell_type": "markdown",
      "metadata": {
        "id": "OqcK7AwVhMUI"
      },
      "source": [
        "Fuente de Datos : https://www.kaggle.com/kyanyoga/sample-sales-data\n",
        "\n"
      ]
    },
    {
      "cell_type": "code",
      "metadata": {
        "id": "upvvdtPzgMcH"
      },
      "source": [
        "  "
      ],
      "execution_count": null,
      "outputs": []
    }
  ]
}